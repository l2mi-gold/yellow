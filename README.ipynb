{
 "cells": [
  {
   "cell_type": "markdown",
   "metadata": {},
   "source": [
    "# <a href=https://competitions.codalab.org/competitions/16151>The Movie Recommendation Challenge</a> \n",
    "\n",
    "<i> Adapted from original code of Isabelle Guyon by the Yellow Team:<br>\n",
    "Sihem ABDOUN, Stephen BATIFOL, Abdallah BENZINE, Abdelhak LOUKKAL, Clément THIERRY and Yaohui WANG</i>\n",
    "\n",
    "ALL INFORMATION, SOFTWARE, DOCUMENTATION, AND DATA ARE PROVIDED \"AS-IS\". The CDS, CHALEARN, AND/OR OTHER ORGANIZERS OR CODE AUTHORS DISCLAIM ANY EXPRESSED OR IMPLIED WARRANTIES, INCLUDING, BUT NOT LIMITED TO, THE IMPLIED WARRANTIES OF MERCHANTABILITY AND FITNESS FOR ANY PARTICULAR PURPOSE, AND THE WARRANTY OF NON-INFRIGEMENT OF ANY THIRD PARTY'S INTELLECTUAL PROPERTY RIGHTS. IN NO EVENT SHALL AUTHORS AND ORGANIZERS BE LIABLE FOR ANY SPECIAL, \n",
    "INDIRECT OR CONSEQUENTIAL DAMAGES OR ANY DAMAGES WHATSOEVER ARISING OUT OF OR IN CONNECTION WITH THE USE OR PERFORMANCE OF SOFTWARE, DOCUMENTS, MATERIALS, PUBLICATIONS, OR INFORMATION MADE AVAILABLE FOR THE CHALLENGE. "
   ]
  },
  {
   "cell_type": "markdown",
   "metadata": {},
   "source": [
    "## Introduction\n"
   ]
  },
  {
   "cell_type": "code",
   "execution_count": 2,
   "metadata": {
    "collapsed": false
   },
   "outputs": [],
   "source": [
    "codedir = 'sample_code/'                        # Change this to the directory where you put the code\n",
    "from sys import path; path.append(codedir)\n",
    "%matplotlib inline\n",
    "import seaborn as sns; sns.set()"
   ]
  },
  {
   "cell_type": "markdown",
   "metadata": {},
   "source": [
    "## Fetch the data and load it"
   ]
  },
  {
   "cell_type": "code",
   "execution_count": 3,
   "metadata": {
    "collapsed": false
   },
   "outputs": [
    {
     "name": "stderr",
     "output_type": "stream",
     "text": [
      "'ls' n'est pas reconnu en tant que commande interne\n",
      "ou externe, un programme ex‚cutable ou un fichier de commandes.\n"
     ]
    }
   ],
   "source": [
    "datadir = 'public_data/'                        # Change this to the directory where you put the input data\n",
    "dataname = 'movierec'\n",
    "basename = datadir  + dataname\n",
    "!ls $basename*"
   ]
  },
  {
   "cell_type": "code",
   "execution_count": 4,
   "metadata": {
    "collapsed": false
   },
   "outputs": [
    {
     "name": "stdout",
     "output_type": "stream",
     "text": [
      "Reading public_data/movierec_train from AutoML format\n",
      "Number of examples = 105000\n",
      "Number of features = 54\n"
     ]
    }
   ],
   "source": [
    "import data_io\n",
    "import eval\n",
    "reload(data_io)\n",
    "data = data_io.read_as_df(basename)                          # The data are loaded as a Pandas Data Frame\n",
    "#data.to_csv(basename + '_train.csv', index=False)           # This allows saving the data in csv format"
   ]
  },
  {
   "cell_type": "code",
   "execution_count": 5,
   "metadata": {
    "collapsed": false
   },
   "outputs": [
    {
     "data": {
      "text/html": [
       "<div>\n",
       "<table border=\"1\" class=\"dataframe\">\n",
       "  <thead>\n",
       "    <tr style=\"text-align: right;\">\n",
       "      <th></th>\n",
       "      <th>user_id</th>\n",
       "      <th>movie_id</th>\n",
       "      <th>age_-18</th>\n",
       "      <th>age_18-24</th>\n",
       "      <th>age_25-34</th>\n",
       "      <th>age_35-44</th>\n",
       "      <th>age_45-49</th>\n",
       "      <th>age_50-55</th>\n",
       "      <th>age_56+</th>\n",
       "      <th>job_other</th>\n",
       "      <th>...</th>\n",
       "      <th>movie_genre_Romance</th>\n",
       "      <th>movie_genre_Sci-Fi</th>\n",
       "      <th>movie_genre_Thriller</th>\n",
       "      <th>movie_genre_War</th>\n",
       "      <th>movie_genre_Western</th>\n",
       "      <th>compatibility_vector</th>\n",
       "      <th>user_average_rating</th>\n",
       "      <th>movie_average_rating</th>\n",
       "      <th>constant_1</th>\n",
       "      <th>target</th>\n",
       "    </tr>\n",
       "  </thead>\n",
       "  <tbody>\n",
       "    <tr>\n",
       "      <th>0</th>\n",
       "      <td>4611</td>\n",
       "      <td>1357</td>\n",
       "      <td>0</td>\n",
       "      <td>1</td>\n",
       "      <td>0</td>\n",
       "      <td>0</td>\n",
       "      <td>0</td>\n",
       "      <td>0</td>\n",
       "      <td>0</td>\n",
       "      <td>0</td>\n",
       "      <td>...</td>\n",
       "      <td>1</td>\n",
       "      <td>0</td>\n",
       "      <td>0</td>\n",
       "      <td>0</td>\n",
       "      <td>0</td>\n",
       "      <td>0.370</td>\n",
       "      <td>3.276</td>\n",
       "      <td>3.807</td>\n",
       "      <td>1</td>\n",
       "      <td>4</td>\n",
       "    </tr>\n",
       "    <tr>\n",
       "      <th>1</th>\n",
       "      <td>2777</td>\n",
       "      <td>280</td>\n",
       "      <td>0</td>\n",
       "      <td>1</td>\n",
       "      <td>0</td>\n",
       "      <td>0</td>\n",
       "      <td>0</td>\n",
       "      <td>0</td>\n",
       "      <td>0</td>\n",
       "      <td>0</td>\n",
       "      <td>...</td>\n",
       "      <td>0</td>\n",
       "      <td>0</td>\n",
       "      <td>1</td>\n",
       "      <td>0</td>\n",
       "      <td>0</td>\n",
       "      <td>0.392</td>\n",
       "      <td>3.498</td>\n",
       "      <td>3.571</td>\n",
       "      <td>1</td>\n",
       "      <td>4</td>\n",
       "    </tr>\n",
       "    <tr>\n",
       "      <th>2</th>\n",
       "      <td>3411</td>\n",
       "      <td>3174</td>\n",
       "      <td>0</td>\n",
       "      <td>1</td>\n",
       "      <td>0</td>\n",
       "      <td>0</td>\n",
       "      <td>0</td>\n",
       "      <td>0</td>\n",
       "      <td>0</td>\n",
       "      <td>0</td>\n",
       "      <td>...</td>\n",
       "      <td>0</td>\n",
       "      <td>0</td>\n",
       "      <td>0</td>\n",
       "      <td>0</td>\n",
       "      <td>0</td>\n",
       "      <td>0.336</td>\n",
       "      <td>2.732</td>\n",
       "      <td>3.485</td>\n",
       "      <td>1</td>\n",
       "      <td>4</td>\n",
       "    </tr>\n",
       "    <tr>\n",
       "      <th>3</th>\n",
       "      <td>2551</td>\n",
       "      <td>2138</td>\n",
       "      <td>0</td>\n",
       "      <td>0</td>\n",
       "      <td>1</td>\n",
       "      <td>0</td>\n",
       "      <td>0</td>\n",
       "      <td>0</td>\n",
       "      <td>0</td>\n",
       "      <td>0</td>\n",
       "      <td>...</td>\n",
       "      <td>0</td>\n",
       "      <td>0</td>\n",
       "      <td>0</td>\n",
       "      <td>0</td>\n",
       "      <td>0</td>\n",
       "      <td>0.707</td>\n",
       "      <td>3.303</td>\n",
       "      <td>3.843</td>\n",
       "      <td>1</td>\n",
       "      <td>4</td>\n",
       "    </tr>\n",
       "    <tr>\n",
       "      <th>4</th>\n",
       "      <td>955</td>\n",
       "      <td>3685</td>\n",
       "      <td>0</td>\n",
       "      <td>0</td>\n",
       "      <td>0</td>\n",
       "      <td>0</td>\n",
       "      <td>0</td>\n",
       "      <td>1</td>\n",
       "      <td>0</td>\n",
       "      <td>0</td>\n",
       "      <td>...</td>\n",
       "      <td>1</td>\n",
       "      <td>0</td>\n",
       "      <td>0</td>\n",
       "      <td>0</td>\n",
       "      <td>0</td>\n",
       "      <td>0.616</td>\n",
       "      <td>3.580</td>\n",
       "      <td>3.593</td>\n",
       "      <td>1</td>\n",
       "      <td>4</td>\n",
       "    </tr>\n",
       "  </tbody>\n",
       "</table>\n",
       "<p>5 rows × 55 columns</p>\n",
       "</div>"
      ],
      "text/plain": [
       "   user_id  movie_id  age_-18  age_18-24  age_25-34  age_35-44  age_45-49  \\\n",
       "0     4611      1357        0          1          0          0          0   \n",
       "1     2777       280        0          1          0          0          0   \n",
       "2     3411      3174        0          1          0          0          0   \n",
       "3     2551      2138        0          0          1          0          0   \n",
       "4      955      3685        0          0          0          0          0   \n",
       "\n",
       "   age_50-55  age_56+  job_other   ...    movie_genre_Romance  \\\n",
       "0          0        0          0   ...                      1   \n",
       "1          0        0          0   ...                      0   \n",
       "2          0        0          0   ...                      0   \n",
       "3          0        0          0   ...                      0   \n",
       "4          1        0          0   ...                      1   \n",
       "\n",
       "   movie_genre_Sci-Fi  movie_genre_Thriller  movie_genre_War  \\\n",
       "0                   0                     0                0   \n",
       "1                   0                     1                0   \n",
       "2                   0                     0                0   \n",
       "3                   0                     0                0   \n",
       "4                   0                     0                0   \n",
       "\n",
       "   movie_genre_Western  compatibility_vector  user_average_rating  \\\n",
       "0                    0                 0.370                3.276   \n",
       "1                    0                 0.392                3.498   \n",
       "2                    0                 0.336                2.732   \n",
       "3                    0                 0.707                3.303   \n",
       "4                    0                 0.616                3.580   \n",
       "\n",
       "   movie_average_rating  constant_1  target  \n",
       "0                 3.807           1       4  \n",
       "1                 3.571           1       4  \n",
       "2                 3.485           1       4  \n",
       "3                 3.843           1       4  \n",
       "4                 3.593           1       4  \n",
       "\n",
       "[5 rows x 55 columns]"
      ]
     },
     "execution_count": 5,
     "metadata": {},
     "output_type": "execute_result"
    }
   ],
   "source": [
    "data.head()"
   ]
  },
  {
   "cell_type": "code",
   "execution_count": 7,
   "metadata": {
    "collapsed": false,
    "scrolled": true
   },
   "outputs": [
    {
     "data": {
      "text/html": [
       "<div>\n",
       "<table border=\"1\" class=\"dataframe\">\n",
       "  <thead>\n",
       "    <tr style=\"text-align: right;\">\n",
       "      <th></th>\n",
       "      <th>user_id</th>\n",
       "      <th>movie_id</th>\n",
       "      <th>age_-18</th>\n",
       "      <th>age_18-24</th>\n",
       "      <th>age_25-34</th>\n",
       "      <th>age_35-44</th>\n",
       "      <th>age_45-49</th>\n",
       "      <th>age_50-55</th>\n",
       "      <th>age_56+</th>\n",
       "      <th>job_other</th>\n",
       "      <th>...</th>\n",
       "      <th>movie_genre_Romance</th>\n",
       "      <th>movie_genre_Sci-Fi</th>\n",
       "      <th>movie_genre_Thriller</th>\n",
       "      <th>movie_genre_War</th>\n",
       "      <th>movie_genre_Western</th>\n",
       "      <th>compatibility_vector</th>\n",
       "      <th>user_average_rating</th>\n",
       "      <th>movie_average_rating</th>\n",
       "      <th>constant_1</th>\n",
       "      <th>target</th>\n",
       "    </tr>\n",
       "  </thead>\n",
       "  <tbody>\n",
       "    <tr>\n",
       "      <th>count</th>\n",
       "      <td>105000.000000</td>\n",
       "      <td>105000.000000</td>\n",
       "      <td>105000.000000</td>\n",
       "      <td>105000.000000</td>\n",
       "      <td>105000.000000</td>\n",
       "      <td>105000.000000</td>\n",
       "      <td>105000.000000</td>\n",
       "      <td>105000.00000</td>\n",
       "      <td>105000.000000</td>\n",
       "      <td>105000.000000</td>\n",
       "      <td>...</td>\n",
       "      <td>105000.000000</td>\n",
       "      <td>105000.000000</td>\n",
       "      <td>105000.000000</td>\n",
       "      <td>105000.000000</td>\n",
       "      <td>105000.000000</td>\n",
       "      <td>105000.000000</td>\n",
       "      <td>105000.000000</td>\n",
       "      <td>105000.000000</td>\n",
       "      <td>105000.0</td>\n",
       "      <td>105000.000000</td>\n",
       "    </tr>\n",
       "    <tr>\n",
       "      <th>mean</th>\n",
       "      <td>3021.651229</td>\n",
       "      <td>1867.415267</td>\n",
       "      <td>0.027305</td>\n",
       "      <td>0.184552</td>\n",
       "      <td>0.393800</td>\n",
       "      <td>0.199210</td>\n",
       "      <td>0.083571</td>\n",
       "      <td>0.07220</td>\n",
       "      <td>0.039362</td>\n",
       "      <td>0.131714</td>\n",
       "      <td>...</td>\n",
       "      <td>0.148848</td>\n",
       "      <td>0.156590</td>\n",
       "      <td>0.188200</td>\n",
       "      <td>0.067743</td>\n",
       "      <td>0.021552</td>\n",
       "      <td>0.418096</td>\n",
       "      <td>3.581418</td>\n",
       "      <td>3.583144</td>\n",
       "      <td>1.0</td>\n",
       "      <td>3.583362</td>\n",
       "    </tr>\n",
       "    <tr>\n",
       "      <th>std</th>\n",
       "      <td>1727.189733</td>\n",
       "      <td>1095.206784</td>\n",
       "      <td>0.162971</td>\n",
       "      <td>0.387936</td>\n",
       "      <td>0.488594</td>\n",
       "      <td>0.399408</td>\n",
       "      <td>0.276745</td>\n",
       "      <td>0.25882</td>\n",
       "      <td>0.194455</td>\n",
       "      <td>0.338181</td>\n",
       "      <td>...</td>\n",
       "      <td>0.355940</td>\n",
       "      <td>0.363416</td>\n",
       "      <td>0.390874</td>\n",
       "      <td>0.251305</td>\n",
       "      <td>0.145217</td>\n",
       "      <td>0.203292</td>\n",
       "      <td>0.436782</td>\n",
       "      <td>0.543914</td>\n",
       "      <td>0.0</td>\n",
       "      <td>1.117683</td>\n",
       "    </tr>\n",
       "    <tr>\n",
       "      <th>min</th>\n",
       "      <td>1.000000</td>\n",
       "      <td>1.000000</td>\n",
       "      <td>0.000000</td>\n",
       "      <td>0.000000</td>\n",
       "      <td>0.000000</td>\n",
       "      <td>0.000000</td>\n",
       "      <td>0.000000</td>\n",
       "      <td>0.00000</td>\n",
       "      <td>0.000000</td>\n",
       "      <td>0.000000</td>\n",
       "      <td>...</td>\n",
       "      <td>0.000000</td>\n",
       "      <td>0.000000</td>\n",
       "      <td>0.000000</td>\n",
       "      <td>0.000000</td>\n",
       "      <td>0.000000</td>\n",
       "      <td>0.056000</td>\n",
       "      <td>1.015000</td>\n",
       "      <td>1.000000</td>\n",
       "      <td>1.0</td>\n",
       "      <td>1.000000</td>\n",
       "    </tr>\n",
       "    <tr>\n",
       "      <th>25%</th>\n",
       "      <td>1503.000000</td>\n",
       "      <td>1030.000000</td>\n",
       "      <td>0.000000</td>\n",
       "      <td>0.000000</td>\n",
       "      <td>0.000000</td>\n",
       "      <td>0.000000</td>\n",
       "      <td>0.000000</td>\n",
       "      <td>0.00000</td>\n",
       "      <td>0.000000</td>\n",
       "      <td>0.000000</td>\n",
       "      <td>...</td>\n",
       "      <td>0.000000</td>\n",
       "      <td>0.000000</td>\n",
       "      <td>0.000000</td>\n",
       "      <td>0.000000</td>\n",
       "      <td>0.000000</td>\n",
       "      <td>0.223000</td>\n",
       "      <td>3.318000</td>\n",
       "      <td>3.262000</td>\n",
       "      <td>1.0</td>\n",
       "      <td>3.000000</td>\n",
       "    </tr>\n",
       "    <tr>\n",
       "      <th>50%</th>\n",
       "      <td>3064.000000</td>\n",
       "      <td>1841.000000</td>\n",
       "      <td>0.000000</td>\n",
       "      <td>0.000000</td>\n",
       "      <td>0.000000</td>\n",
       "      <td>0.000000</td>\n",
       "      <td>0.000000</td>\n",
       "      <td>0.00000</td>\n",
       "      <td>0.000000</td>\n",
       "      <td>0.000000</td>\n",
       "      <td>...</td>\n",
       "      <td>0.000000</td>\n",
       "      <td>0.000000</td>\n",
       "      <td>0.000000</td>\n",
       "      <td>0.000000</td>\n",
       "      <td>0.000000</td>\n",
       "      <td>0.401000</td>\n",
       "      <td>3.613000</td>\n",
       "      <td>3.680000</td>\n",
       "      <td>1.0</td>\n",
       "      <td>4.000000</td>\n",
       "    </tr>\n",
       "    <tr>\n",
       "      <th>75%</th>\n",
       "      <td>4472.000000</td>\n",
       "      <td>2781.000000</td>\n",
       "      <td>0.000000</td>\n",
       "      <td>0.000000</td>\n",
       "      <td>1.000000</td>\n",
       "      <td>0.000000</td>\n",
       "      <td>0.000000</td>\n",
       "      <td>0.00000</td>\n",
       "      <td>0.000000</td>\n",
       "      <td>0.000000</td>\n",
       "      <td>...</td>\n",
       "      <td>0.000000</td>\n",
       "      <td>0.000000</td>\n",
       "      <td>0.000000</td>\n",
       "      <td>0.000000</td>\n",
       "      <td>0.000000</td>\n",
       "      <td>0.549000</td>\n",
       "      <td>3.882000</td>\n",
       "      <td>3.976000</td>\n",
       "      <td>1.0</td>\n",
       "      <td>4.000000</td>\n",
       "    </tr>\n",
       "    <tr>\n",
       "      <th>max</th>\n",
       "      <td>6040.000000</td>\n",
       "      <td>3952.000000</td>\n",
       "      <td>1.000000</td>\n",
       "      <td>1.000000</td>\n",
       "      <td>1.000000</td>\n",
       "      <td>1.000000</td>\n",
       "      <td>1.000000</td>\n",
       "      <td>1.00000</td>\n",
       "      <td>1.000000</td>\n",
       "      <td>1.000000</td>\n",
       "      <td>...</td>\n",
       "      <td>1.000000</td>\n",
       "      <td>1.000000</td>\n",
       "      <td>1.000000</td>\n",
       "      <td>1.000000</td>\n",
       "      <td>1.000000</td>\n",
       "      <td>1.417000</td>\n",
       "      <td>4.957000</td>\n",
       "      <td>5.000000</td>\n",
       "      <td>1.0</td>\n",
       "      <td>5.000000</td>\n",
       "    </tr>\n",
       "  </tbody>\n",
       "</table>\n",
       "<p>8 rows × 55 columns</p>\n",
       "</div>"
      ],
      "text/plain": [
       "             user_id       movie_id        age_-18      age_18-24  \\\n",
       "count  105000.000000  105000.000000  105000.000000  105000.000000   \n",
       "mean     3021.651229    1867.415267       0.027305       0.184552   \n",
       "std      1727.189733    1095.206784       0.162971       0.387936   \n",
       "min         1.000000       1.000000       0.000000       0.000000   \n",
       "25%      1503.000000    1030.000000       0.000000       0.000000   \n",
       "50%      3064.000000    1841.000000       0.000000       0.000000   \n",
       "75%      4472.000000    2781.000000       0.000000       0.000000   \n",
       "max      6040.000000    3952.000000       1.000000       1.000000   \n",
       "\n",
       "           age_25-34      age_35-44      age_45-49     age_50-55  \\\n",
       "count  105000.000000  105000.000000  105000.000000  105000.00000   \n",
       "mean        0.393800       0.199210       0.083571       0.07220   \n",
       "std         0.488594       0.399408       0.276745       0.25882   \n",
       "min         0.000000       0.000000       0.000000       0.00000   \n",
       "25%         0.000000       0.000000       0.000000       0.00000   \n",
       "50%         0.000000       0.000000       0.000000       0.00000   \n",
       "75%         1.000000       0.000000       0.000000       0.00000   \n",
       "max         1.000000       1.000000       1.000000       1.00000   \n",
       "\n",
       "             age_56+      job_other      ...        movie_genre_Romance  \\\n",
       "count  105000.000000  105000.000000      ...              105000.000000   \n",
       "mean        0.039362       0.131714      ...                   0.148848   \n",
       "std         0.194455       0.338181      ...                   0.355940   \n",
       "min         0.000000       0.000000      ...                   0.000000   \n",
       "25%         0.000000       0.000000      ...                   0.000000   \n",
       "50%         0.000000       0.000000      ...                   0.000000   \n",
       "75%         0.000000       0.000000      ...                   0.000000   \n",
       "max         1.000000       1.000000      ...                   1.000000   \n",
       "\n",
       "       movie_genre_Sci-Fi  movie_genre_Thriller  movie_genre_War  \\\n",
       "count       105000.000000         105000.000000    105000.000000   \n",
       "mean             0.156590              0.188200         0.067743   \n",
       "std              0.363416              0.390874         0.251305   \n",
       "min              0.000000              0.000000         0.000000   \n",
       "25%              0.000000              0.000000         0.000000   \n",
       "50%              0.000000              0.000000         0.000000   \n",
       "75%              0.000000              0.000000         0.000000   \n",
       "max              1.000000              1.000000         1.000000   \n",
       "\n",
       "       movie_genre_Western  compatibility_vector  user_average_rating  \\\n",
       "count        105000.000000         105000.000000        105000.000000   \n",
       "mean              0.021552              0.418096             3.581418   \n",
       "std               0.145217              0.203292             0.436782   \n",
       "min               0.000000              0.056000             1.015000   \n",
       "25%               0.000000              0.223000             3.318000   \n",
       "50%               0.000000              0.401000             3.613000   \n",
       "75%               0.000000              0.549000             3.882000   \n",
       "max               1.000000              1.417000             4.957000   \n",
       "\n",
       "       movie_average_rating  constant_1         target  \n",
       "count         105000.000000    105000.0  105000.000000  \n",
       "mean               3.583144         1.0       3.583362  \n",
       "std                0.543914         0.0       1.117683  \n",
       "min                1.000000         1.0       1.000000  \n",
       "25%                3.262000         1.0       3.000000  \n",
       "50%                3.680000         1.0       4.000000  \n",
       "75%                3.976000         1.0       4.000000  \n",
       "max                5.000000         1.0       5.000000  \n",
       "\n",
       "[8 rows x 55 columns]"
      ]
     },
     "execution_count": 7,
     "metadata": {},
     "output_type": "execute_result"
    }
   ],
   "source": [
    "data.describe()"
   ]
  },
  {
   "cell_type": "code",
   "execution_count": null,
   "metadata": {
    "collapsed": false
   },
   "outputs": [],
   "source": []
  },
  {
   "cell_type": "markdown",
   "metadata": {},
   "source": [
    "## Building a predictive model"
   ]
  },
  {
   "cell_type": "markdown",
   "metadata": {},
   "source": [
    "Data matrices for training and making predictions."
   ]
  },
  {
   "cell_type": "code",
   "execution_count": 6,
   "metadata": {
    "collapsed": false
   },
   "outputs": [
    {
     "name": "stdout",
     "output_type": "stream",
     "text": [
      "Dimensions X_train= (105000, 54) y_train= (105000L,)\n",
      "Reading public_data/movierec_valid from AutoML format\n",
      "Number of examples = 15000\n",
      "Number of features = 54\n",
      "Reading public_data/movierec_test from AutoML format\n",
      "Number of examples = 30000\n",
      "Number of features = 54\n"
     ]
    }
   ],
   "source": [
    "import numpy as np\n",
    "X_train = data.drop('target', axis=1)                   # This is the data matrix you already loaded (training data)\n",
    "y_train = data['target'].values                         # These are the target values encoded as categorical variables\n",
    "print 'Dimensions X_train=', X_train.shape, 'y_train=', y_train.shape\n",
    "X_valid = data_io.read_as_df(basename, 'valid')\n",
    "\n",
    "X_test = data_io.read_as_df(basename, 'test')"
   ]
  },
  {
   "cell_type": "markdown",
   "metadata": {},
   "source": [
    "The initial classifier in your starting kit (in the sample_code directory)."
   ]
  },
  {
   "cell_type": "code",
   "execution_count": null,
   "metadata": {
    "collapsed": false
   },
   "outputs": [],
   "source": [
    "import regressor\n",
    "reload(regressor)                               # If you make changes to your code you have to reload it\n",
    "from regressor import Regressor\n",
    "Regressor??"
   ]
  },
  {
   "cell_type": "markdown",
   "metadata": {},
   "source": [
    "Train, run, and save your classifier and your predictions. If you saved a trained model and/or prediction results, the evaluation script will look for those and use those in priority [(1) use saved predictions; (2) if no predictions, use saved model, do not retrain, just test; (3) if neither, train and test model from scratch]. Compute the predictions with predict_proba, this is more versatile."
   ]
  },
  {
   "cell_type": "code",
   "execution_count": null,
   "metadata": {
    "collapsed": false
   },
   "outputs": [],
   "source": [
    "%time \n",
    "result_dir = 'res/'\n",
    "outname = result_dir + dataname\n",
    "%timeit \n",
    "clf = Regressor()\n",
    "clf.fit(X_train, y_train)\n",
    "Y_valid = clf.predict(X_valid)\n",
    "Y_test = clf.predict(X_test)\n",
    "clf.save(outname)\n",
    "#clf.load(outname) # Uncomment to check reloading works\n",
    "data_io.write(outname + '_valid.predict', Y_valid)\n",
    "data_io.write(outname + '_test.predict', Y_test)\n",
    "\n",
    "!ls $outname*"
   ]
  },
  {
   "cell_type": "markdown",
   "metadata": {},
   "source": [
    "Compute the training accuracy."
   ]
  },
  {
   "cell_type": "code",
   "execution_count": null,
   "metadata": {
    "collapsed": false
   },
   "outputs": [],
   "source": [
    "from sklearn.metrics import confusion_matrix\n",
    "from sklearn.metrics import mean_squared_error\n",
    "# Directly predicts\n",
    "\n",
    "y_predict = clf.predict(X_train)\n",
    "\n",
    "print 'valid accuracy =', eval.mse(y_train, y_predict)"
   ]
  },
  {
   "cell_type": "markdown",
   "metadata": {},
   "source": [
    "Compute cross-validation accuracy. This is usually worse than the training accuracy. Notice that we internally split the training data into training and validation set (this is because we do NOT have the labels of X_valid and X_test)."
   ]
  },
  {
   "cell_type": "code",
   "execution_count": null,
   "metadata": {
    "collapsed": false
   },
   "outputs": [],
   "source": [
    "from sklearn.cross_validation import StratifiedShuffleSplit\n",
    "# This is just an example of 2-fold cross-validation\n",
    "skf = StratifiedShuffleSplit(y_train, n_iter=5, test_size=0.5, random_state=0)\n",
    "i=0\n",
    "for idx_t, idx_v in skf:\n",
    "    i=i+1\n",
    "    Xtr = X_train.iloc[idx_t]\n",
    "    Ytr = y_train[idx_t]\n",
    "    Xva = X_train.iloc[idx_v]\n",
    "    Yva = y_train[idx_v]\n",
    "    clf = Regressor()\n",
    "    clf.fit(Xtr, Ytr)\n",
    "    Y_predict = clf.predict(Xva)\n",
    "    print 'Fold', i, 'validation accuracy = ', eval.mae(Y_predict, Yva)"
   ]
  },
  {
   "cell_type": "markdown",
   "metadata": {},
   "source": [
    "It is <b><span style=\"color:red\">important that you test your submission files before submitting them</span></b>. All you have to do to make a submission is modify the file <code>regressor.py</code> in the <code>sample_code/</code> directory, then run this test to make sure everything works fine. This is the actual program that will be run on the server to test your submission.  The program looks for saved results and saved models in the subdirectory <code>res/</code>. If it finds them, it will use them: (1) If results are found, then are copied to the output directory; (2) If no results but a trained model is found, it is reloaded and no training occurs; (3) If nothing is found a fresh model is trained and tested."
   ]
  },
  {
   "cell_type": "code",
   "execution_count": null,
   "metadata": {
    "collapsed": false,
    "scrolled": true
   },
   "outputs": [],
   "source": [
    "outdir = '../outputs'        # If you use result_dir as output directory, your submission will include your results"
   ]
  },
  {
   "cell_type": "code",
   "execution_count": null,
   "metadata": {
    "collapsed": false,
    "scrolled": true
   },
   "outputs": [],
   "source": [
    "!python run.py $datadir $outdir"
   ]
  },
  {
   "cell_type": "markdown",
   "metadata": {
    "collapsed": true
   },
   "source": [
    "## Making your submission\n",
    "\n",
    "The test program <code>run.py</code> prepares your <code>zip</code> file, ready to go. You find it in the directory above where you ran your program. For large datasets, we recommend that <b><span style=\"color:red\">you do NOT bundle the data with your submission</span></b>. The data directory is passed as an argument to run.py, and it is already there on the test server."
   ]
  }
 ],
 "metadata": {
  "anaconda-cloud": {},
  "kernelspec": {
   "display_name": "Python [default]",
   "language": "python",
   "name": "python2"
  },
  "language_info": {
   "codemirror_mode": {
    "name": "ipython",
    "version": 2
   },
   "file_extension": ".py",
   "mimetype": "text/x-python",
   "name": "python",
   "nbconvert_exporter": "python",
   "pygments_lexer": "ipython2",
   "version": "2.7.12"
  }
 },
 "nbformat": 4,
 "nbformat_minor": 0
}
